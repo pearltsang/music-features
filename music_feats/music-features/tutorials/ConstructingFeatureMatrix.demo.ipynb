{
 "cells": [
  {
   "cell_type": "markdown",
   "metadata": {},
   "source": [
    "Extracting the features is only the first part. Before feeding the features into the model pipeline, it is necessary to create the feature matrix."
   ]
  },
  {
   "cell_type": "code",
   "execution_count": null,
   "metadata": {
    "collapsed": false
   },
   "outputs": [],
   "source": [
    "%pylab\n",
    "%matplotlib inline\n",
    "from __future__ import division\n",
    "import matplotlib.pyplot as plt\n",
    "import os\n",
    "import tables\n",
    "import json\n",
    "import music.features.DesignMatrix as DM\n",
    "import numpy as np\n",
    "\n",
    "print \"done importing\""
   ]
  },
  {
   "cell_type": "code",
   "execution_count": null,
   "metadata": {
    "collapsed": true
   },
   "outputs": [],
   "source": [
    "data_dir = os.path.abspath(os.path.join(os.getcwd(), '..', 'tests', 'data'))\n",
    "trname = 'sess_1_block_0_AN.report' # sample report file"
   ]
  },
  {
   "cell_type": "markdown",
   "metadata": {},
   "source": [
    "### Import the sample extracted features"
   ]
  },
  {
   "cell_type": "code",
   "execution_count": null,
   "metadata": {
    "collapsed": false
   },
   "outputs": [],
   "source": [
    "all_features = {}\n",
    "f = tables.open_file('sampleFeatures.hdf')"
   ]
  },
  {
   "cell_type": "code",
   "execution_count": null,
   "metadata": {
    "collapsed": true
   },
   "outputs": [],
   "source": [
    "toOpen = []\n",
    "for array in f.walk_nodes('/', 'Array'):\n",
    "    arrsplit = str(array).split(' ')\n",
    "    toOpen.append(arrsplit[0][1:])"
   ]
  },
  {
   "cell_type": "code",
   "execution_count": null,
   "metadata": {
    "collapsed": false
   },
   "outputs": [],
   "source": [
    "print toOpen"
   ]
  },
  {
   "cell_type": "code",
   "execution_count": null,
   "metadata": {
    "collapsed": true
   },
   "outputs": [],
   "source": [
    "all_features = {}\n",
    "\n",
    "all_features['CQT'] = f.root.CQT.read()\n",
    "all_features['FP'] = f.root.FP.read()\n",
    "all_features['MELSPECT'] = f.root.MELSPECT.read()\n",
    "all_features['MFCC'] = f.root.MFCC.read()\n",
    "all_features['RMS'] = f.root.RMS.read()\n",
    "all_features['S'] = f.root.S.read()\n",
    "all_features['ZCR'] = f.root.ZCR.read()\n",
    "all_features['chroma'] = f.root.chroma.read()\n",
    "all_features['keyTimeSeries'] = f.root.keyTimeSeries.read()\n",
    "all_features['modeTimeSeries'] = f.root.modeTimeSeries.read()\n",
    "\n",
    "f.close()"
   ]
  },
  {
   "cell_type": "code",
   "execution_count": null,
   "metadata": {
    "collapsed": true
   },
   "outputs": [],
   "source": [
    "with open('featureParams.json',) as data_file:\n",
    "    extractionParameters = json.load(data_file)"
   ]
  },
  {
   "cell_type": "markdown",
   "metadata": {},
   "source": [
    "### Creating a feature matrix"
   ]
  },
  {
   "cell_type": "markdown",
   "metadata": {},
   "source": [
    "You can use a DesignMatrix object to construct a feature matrix to be used for model fitting. If you have a TR report file for the data session of interest, you should pass it in as a parameter for the DesignMatrix constructer. The TR report will be used for downsampling extracted features to correctly correspond to the number of TRs in that session.\n",
    "\n",
    "Later in the demo, you'll see how to create a design matrix when there is no TR file. In the case of no TR report, merely leave the parameter blank and it will default to a value of None."
   ]
  },
  {
   "cell_type": "code",
   "execution_count": null,
   "metadata": {
    "collapsed": true
   },
   "outputs": [],
   "source": [
    "TR=2.0045\n",
    "sr=extractionParameters['RMS']['sr']"
   ]
  },
  {
   "cell_type": "code",
   "execution_count": null,
   "metadata": {
    "collapsed": false
   },
   "outputs": [],
   "source": [
    "mat_maker = DM.DesignMatrix(all_features, trfile=os.path.join(data_dir, trname), TR=TR, sr=sr)"
   ]
  },
  {
   "cell_type": "markdown",
   "metadata": {},
   "source": [
    "#### Create a feature matrix without downsampling. \n",
    "\n",
    "To do this, all features already need to be the same size."
   ]
  },
  {
   "cell_type": "code",
   "execution_count": null,
   "metadata": {
    "collapsed": true
   },
   "outputs": [],
   "source": [
    "featsets = [\n",
    "            'RMS',\n",
    "            'ZCR',\n",
    "            'MFCC',\n",
    "            'MELSPECT',\n",
    "            'S',\n",
    "            ]"
   ]
  },
  {
   "cell_type": "markdown",
   "metadata": {},
   "source": [
    "The matrix constructor has a built-in safety. You need to pass in as a parameter the size of the features you are combining. If any of the features isn't that size it will be skipped when building the feature matrix."
   ]
  },
  {
   "cell_type": "code",
   "execution_count": null,
   "metadata": {
    "collapsed": false
   },
   "outputs": [],
   "source": [
    "## the length of the features to be used\n",
    "time_len = mat_maker.returnFeature('RMS').shape[1]\n",
    "## make the feature matrix\n",
    "feat_mat = mat_maker.buildMatrix(featsets,time_len)"
   ]
  },
  {
   "cell_type": "code",
   "execution_count": null,
   "metadata": {
    "collapsed": false
   },
   "outputs": [],
   "source": [
    "print feat_mat.shape"
   ]
  },
  {
   "cell_type": "markdown",
   "metadata": {},
   "source": [
    "The dimensions of the feature matrix is time x features, where each feature is some time x n matrix (n being the number of dimensions that make up that feature, i.e. RMS is time x 1, whereas S is time x 1025)."
   ]
  },
  {
   "cell_type": "code",
   "execution_count": null,
   "metadata": {
    "collapsed": true
   },
   "outputs": [],
   "source": [
    "rms = feat_mat[:,0]"
   ]
  },
  {
   "cell_type": "code",
   "execution_count": null,
   "metadata": {
    "collapsed": false
   },
   "outputs": [],
   "source": [
    "plt.figure()\n",
    "plt.plot(rms)\n",
    "plt.title('RMS')\n",
    "plt.xlabel('time')\n",
    "plt.show()"
   ]
  },
  {
   "cell_type": "markdown",
   "metadata": {},
   "source": [
    "The first column of the feature matrix matches the extracted root mean sqaure feature from before."
   ]
  },
  {
   "cell_type": "markdown",
   "metadata": {},
   "source": [
    "#### Downsampling a feature matrix\n",
    "\n",
    "After constructing the feature matrix, you can then downsample it to be the number of TRs. The default method of downsampling is using lanzcos interpolation. You can opt to apply a nonlinearity to the extracted feature values before downsampling, otherwise no nonlinearity will be applied and the values will be used as they are. See documentation of DesignMatrix.py for more details."
   ]
  },
  {
   "cell_type": "code",
   "execution_count": null,
   "metadata": {
    "collapsed": true
   },
   "outputs": [],
   "source": [
    "# parameters necessary for downsampling\n",
    "endTrim = False\n",
    "\n",
    "# can either set number if remember it, or can access via the extraction parameters used\n",
    "n_fft = 2048\n",
    "# n_fft = extractionParameters['RMS']['n_fft']\n",
    "\n",
    "# length of the audio file from which the features were extracted\n",
    "audiolen = extractionParameters['RMS']['audio_len_samples']"
   ]
  },
  {
   "cell_type": "markdown",
   "metadata": {},
   "source": [
    "The endTrim parameter was added to account for the fact that some studies have blank TRs at the beginning and the end of the run (as in the scanning sequence is running for a few seconds at the beginning and the end without any stimulus presentation). The number of TRs to snip is also a parameters, with a default value of 5 [TRs].\n",
    "\n",
    "These parameters are only relevant for data that have TR reports. See documentation of DesignMatrix.downsampleMatrix, DesignMatrix.calculateOldtimes, DesignMatrix.calculateTRtimes, and DesignMatrix.interpolateDownsample for full details. "
   ]
  },
  {
   "cell_type": "code",
   "execution_count": null,
   "metadata": {
    "collapsed": false
   },
   "outputs": [],
   "source": [
    "downsamp_featmat = mat_maker.downsampleMatrix(time_len, audiolen=audiolen, endTrim=endTrim, n_fft=n_fft)"
   ]
  },
  {
   "cell_type": "code",
   "execution_count": null,
   "metadata": {
    "collapsed": false
   },
   "outputs": [],
   "source": [
    "print downsamp_featmat.shape"
   ]
  },
  {
   "cell_type": "code",
   "execution_count": null,
   "metadata": {
    "collapsed": true
   },
   "outputs": [],
   "source": [
    "rms_downsamp = downsamp_featmat[:,0]"
   ]
  },
  {
   "cell_type": "code",
   "execution_count": null,
   "metadata": {
    "collapsed": false
   },
   "outputs": [],
   "source": [
    "plt.figure()\n",
    "plt.plot(rms_downsamp)\n",
    "plt.title('Downsampled RMS')\n",
    "plt.xlabel('Time')\n",
    "plt.show()"
   ]
  },
  {
   "cell_type": "markdown",
   "metadata": {},
   "source": [
    "As a sanity check, the first column corresponds to the downsampled RMS feature, which has maintained the same general shape (albeit the values have changed)."
   ]
  },
  {
   "cell_type": "markdown",
   "metadata": {},
   "source": [
    "#### Downsampling just a feature, not a full matrix.\n",
    "\n",
    "The above downsampled a full feature matrix. You can also downsample individual features."
   ]
  },
  {
   "cell_type": "code",
   "execution_count": null,
   "metadata": {
    "collapsed": false
   },
   "outputs": [],
   "source": [
    "FP = all_features['FP']\n",
    "\n",
    "# original length of the feature before downsampling\n",
    "oldlen = FP.shape[1]\n",
    "\n",
    "# the new length of the downsampled feature\n",
    "newlen = len(mat_maker.calculateTRtimes(endTrim=endTrim))\n",
    "\n",
    "downsamp_FP = mat_maker.downsampleFeature(FP, oldlen, method='resample', newlen=newlen)"
   ]
  },
  {
   "cell_type": "markdown",
   "metadata": {},
   "source": [
    "With the current implementation of the feature extraction module, downsampling the fluctuation patterns feature requires using a resampling method (i.e, sinc interpolation instead of using lanczos resampling). To do this, you'll need to pass in the the original length of the downsampled features (in time domain) and the new length of the features, after downsampling.\n",
    "\n",
    "If you don't have a TR report file, an example of how to downsample will be shown later in the tutorial."
   ]
  },
  {
   "cell_type": "code",
   "execution_count": null,
   "metadata": {
    "collapsed": true
   },
   "outputs": [],
   "source": [
    "dims = FP.shape\n",
    "dims_downsamp = downsamp_FP.shape"
   ]
  },
  {
   "cell_type": "code",
   "execution_count": null,
   "metadata": {
    "collapsed": false
   },
   "outputs": [],
   "source": [
    "plt.figure()\n",
    "plt.imshow(np.flipud(FP), aspect='auto', cmap='gray')\n",
    "plt.xlabel('Time segment number')\n",
    "plt.ylabel('Amplitude modulation per mel frequency band (Hz)')\n",
    "plt.yticks(np.r_[0:dims[0]:dims[0]/12][::-1], np.arange(1,13))\n",
    "plt.title('Fluctuation Patterns')\n",
    "plt.show()"
   ]
  },
  {
   "cell_type": "code",
   "execution_count": null,
   "metadata": {
    "collapsed": false
   },
   "outputs": [],
   "source": [
    "plt.figure()\n",
    "plt.imshow(np.flipud(downsamp_FP), aspect='auto', cmap='gray')\n",
    "plt.xlabel('Time segment number')\n",
    "plt.ylabel('Amplitude modulation per mel frequency band (Hz)')\n",
    "plt.yticks(np.r_[0:dims_downsamp[0]:dims_downsamp[0]/12][::-1], np.arange(1,13))\n",
    "plt.title('Fluctuation Patterns (downsampled)')\n",
    "plt.show()"
   ]
  },
  {
   "cell_type": "markdown",
   "metadata": {},
   "source": [
    "### Combining different features of different lengths\n",
    "\n",
    "If you wish to construct a feature matrix that consists of several different extracted features that are of different lengths, then you need to downsample the features individually and stack them together to form a full feature matrix. This will happen if you wish to combine short duration features (spectral features) with long duration features (rhythmic/tonal features)."
   ]
  },
  {
   "cell_type": "code",
   "execution_count": null,
   "metadata": {
    "collapsed": true
   },
   "outputs": [],
   "source": [
    "TR=2.0045\n",
    "sr=extractionParameters['RMS']['sr']"
   ]
  },
  {
   "cell_type": "code",
   "execution_count": null,
   "metadata": {
    "collapsed": true
   },
   "outputs": [],
   "source": [
    "mat_maker = DM.DesignMatrix(all_features, trfile=os.path.join(data_dir, trname), TR=TR, sr=sr)"
   ]
  },
  {
   "cell_type": "markdown",
   "metadata": {},
   "source": [
    "First combine all the short duration features into a matrix and downsample the matrix as before. These all were extracted using the same windowing and are therefore the same length in the time domain."
   ]
  },
  {
   "cell_type": "code",
   "execution_count": null,
   "metadata": {
    "collapsed": true
   },
   "outputs": [],
   "source": [
    "featsets = [\n",
    "            'RMS',\n",
    "            'ZCR',\n",
    "            'MFCC',\n",
    "            'MELSPECT',\n",
    "            'S',\n",
    "            ]\n",
    "\n",
    "## the length of the features to be used\n",
    "time_len = mat_maker.returnFeature('RMS').shape[1]\n",
    "## make the feature matrix\n",
    "feat_mat = mat_maker.buildMatrix(featsets,time_len)"
   ]
  },
  {
   "cell_type": "code",
   "execution_count": null,
   "metadata": {
    "collapsed": true
   },
   "outputs": [],
   "source": [
    "# parameters necessary for downsampling\n",
    "endTrim = False\n",
    "\n",
    "# can either set number if remember it, or can access via the extraction parameters used\n",
    "n_fft = 2048\n",
    "# n_fft = extractionParameters['RMS']['n_fft']\n",
    "\n",
    "# length of the audio file from which the features were extracted\n",
    "audiolen = extractionParameters['RMS']['audio_len_samples']"
   ]
  },
  {
   "cell_type": "code",
   "execution_count": null,
   "metadata": {
    "collapsed": false
   },
   "outputs": [],
   "source": [
    "downsamp_featmat = mat_maker.downsampleMatrix(time_len, audiolen=audiolen, endTrim=endTrim, n_fft=n_fft)"
   ]
  },
  {
   "cell_type": "markdown",
   "metadata": {},
   "source": [
    "Now we individually downsample the other features of interest which either uses methods other than lanczos resampling or are of a different length in the time domain.\n",
    "\n",
    "The current implementation of the feature extraction library is set up such that certain features are downsample in specific ways:\n",
    "+ chroma & short duration features: lanzcos resampling ('inter')\n",
    "+ tonality: downsampling by only taking every nth sample, where n is the downsample factor ('man')\n",
    "+ FP: downsampling using sinc interpolation and resampling ('resample')\n",
    "    - this can be changed to lanzcos interpolation, but requires implementing a function that will accurately compute the time points of the pre-downsampled feature\n",
    "+ CQT: downsampling using lanczos resampling, but modified to work with the CQT feature ('interCQT')"
   ]
  },
  {
   "cell_type": "code",
   "execution_count": null,
   "metadata": {
    "collapsed": true
   },
   "outputs": [],
   "source": [
    "downf = []\n",
    "\n",
    "# load specific features to downsample prior to use -- longer duration features\n",
    "C = mat_maker.returnFeature('chroma')\n",
    "K = mat_maker.returnFeature('keyTimeSeries')\n",
    "M = mat_maker.returnFeature('modeTimeSeries')\n",
    "FP = mat_maker.returnFeature('FP')\n",
    "CQT = mat_maker.returnFeature('CQT')"
   ]
  },
  {
   "cell_type": "code",
   "execution_count": null,
   "metadata": {
    "collapsed": false
   },
   "outputs": [],
   "source": [
    "# new length after downsampling\n",
    "newlen = len(mat_maker.calculateTRtimes(endTrim=endTrim))\n",
    "\n",
    "# the length of current time series before downsampling\n",
    "# oldlen same value for C, K, M with the extraction parameters used for the demos\n",
    "oldlen = K.shape[1]\n",
    "assert K.shape[1] == C.shape[1]\n",
    "assert M.shape[1] == C.shape[1]\n",
    "\n",
    "# hop length used for the long duration features\n",
    "long_hop = extractionParameters['chroma']['hop_length']\n",
    "long_n_fft = extractionParameters['chroma']['n_fft']\n",
    "\n",
    "# chromagram (uses lanczos resampling)\n",
    "downf.append(mat_maker.downsampleFeature(C, oldlen, audiolen=audiolen, method='inter', endTrim=endTrim,\n",
    "                                         n_fft=long_n_fft, hop_length=long_hop))\n",
    "\n",
    "# tonality (uses manual downsampling -- choose every nth sample, where n is the downsample factor)\n",
    "downf.append(mat_maker.downsampleFeature(K, oldlen, method='man', newlen=newlen))\n",
    "downf.append(mat_maker.downsampleFeature(M, oldlen, method='man', newlen=newlen))\n",
    "\n",
    "# fluctuation patterns (pre-downsampling length for fluctuation patters )\n",
    "oldlen = FP.shape[1]\n",
    "\n",
    "# fluctuation patterns (uses sinc interpolation to downsample)\n",
    "downf.append(mat_maker.downsampleFeature(FP, oldlen, method='resample', newlen=newlen))\n",
    "\n",
    "# CQT extraction parameters needed for feature downsampling\n",
    "cqt_hop = extractionParameters['CQT']['cqt_hop']\n",
    "cqt_seconds = extractionParameters['CQT']['frame_seconds']\n",
    "oldlen = CQT.shape[1]\n",
    "\n",
    "# constant q transform\n",
    "downf.append(mat_maker.downsampleFeature(CQT, oldlen, method='interCQT', endTrim=endTrim, cqt_hop=cqt_hop,\n",
    "                                         seconds=cqt_seconds, sr=sr))"
   ]
  },
  {
   "cell_type": "code",
   "execution_count": null,
   "metadata": {
    "collapsed": false
   },
   "outputs": [],
   "source": [
    "# this variable is to make sure all features downsampled to same length\n",
    "time_len = downf[0].shape[1]\n",
    "\n",
    "# build long duration matrix\n",
    "tmpL = mat_maker.buildMatrix(downf, time_len, retrieve=False)\n",
    "\n",
    "# stack short and long duration features together and store the matrix in the DesignMatrix instance\n",
    "full_feat_mat = np.hstack((downsamp_featmat,tmpL))\n",
    "mat_maker.assignMatrix(full_feat_mat)"
   ]
  },
  {
   "cell_type": "code",
   "execution_count": null,
   "metadata": {
    "collapsed": true
   },
   "outputs": [],
   "source": [
    "featsets += [\n",
    "            'chroma',\n",
    "            'keyTimeSeries',\n",
    "            'modeTimeSeries',\n",
    "            'FP',\n",
    "            'CQT'\n",
    "            ]\n",
    "\n",
    "# store the features used for this particular design matrix as an attribute of the DesignMatrix instance\n",
    "mat_maker.assignFeatsets(featsets)"
   ]
  },
  {
   "cell_type": "code",
   "execution_count": null,
   "metadata": {
    "collapsed": false
   },
   "outputs": [],
   "source": [
    "full_feat_mat.shape"
   ]
  },
  {
   "cell_type": "markdown",
   "metadata": {},
   "source": [
    "Now we've downsampled the full feature matrix and it consists of both short- and long- duration features."
   ]
  },
  {
   "cell_type": "code",
   "execution_count": null,
   "metadata": {
    "collapsed": false
   },
   "outputs": [],
   "source": [
    "rms_downsamp = full_feat_mat[:,0]\n",
    "\n",
    "plt.figure()\n",
    "plt.plot(rms_downsamp)\n",
    "plt.title('RMS downsampled')\n",
    "plt.xlabel('Time')\n",
    "plt.show()"
   ]
  },
  {
   "cell_type": "markdown",
   "metadata": {},
   "source": [
    "As a sanity check, here is the downsampled RMS feature plotted, matches the original."
   ]
  },
  {
   "cell_type": "markdown",
   "metadata": {},
   "source": [
    "### Downsampling without a TR report\n",
    "\n",
    "Sometimes you may need to downsample your features but don't have an accompanying TR report file for the dataset."
   ]
  },
  {
   "cell_type": "markdown",
   "metadata": {},
   "source": [
    "##### Downsampling an individual feature"
   ]
  },
  {
   "cell_type": "code",
   "execution_count": null,
   "metadata": {
    "collapsed": true
   },
   "outputs": [],
   "source": [
    "TR=2.0045\n",
    "sr=extractionParameters['RMS']['sr']\n",
    "endTrim = False"
   ]
  },
  {
   "cell_type": "code",
   "execution_count": null,
   "metadata": {
    "collapsed": true
   },
   "outputs": [],
   "source": [
    "mat_maker = DM.DesignMatrix(all_features, TR=TR, sr=sr)"
   ]
  },
  {
   "cell_type": "code",
   "execution_count": null,
   "metadata": {
    "collapsed": true
   },
   "outputs": [],
   "source": [
    "# necessary parameter, new length of the downsampled feature\n",
    "newLen = 216\n",
    "\n",
    "CQT = mat_maker.returnFeature('CQT')\n",
    "oldlen = CQT.shape[1]\n",
    "cqt_hop = extractionParameters['CQT']['cqt_hop']\n",
    "cqt_seconds = extractionParameters['CQT']['frame_seconds']"
   ]
  },
  {
   "cell_type": "markdown",
   "metadata": {},
   "source": [
    "All the other parameters are the same as before, but there is one new parameter required when there is no TR report. You need to pass in the desired length (of the downsampled feature) into DesignMatrix.downsampleMatrix() or DesignMatrix.downsampleFeature()."
   ]
  },
  {
   "cell_type": "code",
   "execution_count": null,
   "metadata": {
    "collapsed": false
   },
   "outputs": [],
   "source": [
    "downsamp_CQT = mat_maker.downsampleFeature(CQT, oldlen, method='interCQT', endTrim=endTrim, newLen=newLen,\n",
    "                            cqt_hop=cqt_hop, seconds=cqt_seconds, sr=sr)"
   ]
  },
  {
   "cell_type": "code",
   "execution_count": null,
   "metadata": {
    "collapsed": false
   },
   "outputs": [],
   "source": [
    "downsamp_CQT.shape"
   ]
  },
  {
   "cell_type": "code",
   "execution_count": null,
   "metadata": {
    "collapsed": false
   },
   "outputs": [],
   "source": [
    "plt.figure()\n",
    "plt.imshow(CQT, aspect='auto')\n",
    "plt.title('Constant Q Transform')\n",
    "plt.show()\n",
    "\n",
    "plt.figure()\n",
    "plt.imshow(downsamp_CQT, aspect='auto')\n",
    "plt.title('Constant Q Transform, downsampled')\n",
    "plt.show()"
   ]
  },
  {
   "cell_type": "markdown",
   "metadata": {},
   "source": [
    "##### Downsampling a full matrix"
   ]
  },
  {
   "cell_type": "code",
   "execution_count": null,
   "metadata": {
    "collapsed": true
   },
   "outputs": [],
   "source": [
    "featsets = [\n",
    "            'RMS',\n",
    "            'ZCR',\n",
    "            'MFCC',\n",
    "            'MELSPECT',\n",
    "            'S',\n",
    "            ]"
   ]
  },
  {
   "cell_type": "code",
   "execution_count": null,
   "metadata": {
    "collapsed": true
   },
   "outputs": [],
   "source": [
    "## the length of the features to be used\n",
    "time_len = mat_maker.returnFeature('RMS').shape[1]\n",
    "## make the feature matrix\n",
    "feat_mat = mat_maker.buildMatrix(featsets,time_len)"
   ]
  },
  {
   "cell_type": "code",
   "execution_count": null,
   "metadata": {
    "collapsed": true
   },
   "outputs": [],
   "source": [
    "# parameters necessary for downsampling\n",
    "endTrim = False\n",
    "\n",
    "newLen = 216\n",
    "\n",
    "# can either set number if remember it, or can access via the extraction parameters used\n",
    "n_fft = 2048\n",
    "# n_fft = extractionParameters['RMS']['n_fft']\n",
    "\n",
    "# length of the audio file from which the features were extracted\n",
    "audiolen = extractionParameters['RMS']['audio_len_samples']"
   ]
  },
  {
   "cell_type": "code",
   "execution_count": null,
   "metadata": {
    "collapsed": false
   },
   "outputs": [],
   "source": [
    "downsamp_featmat = mat_maker.downsampleMatrix(time_len, audiolen=audiolen, endTrim=False, newLen=newLen, n_fft=n_fft)"
   ]
  },
  {
   "cell_type": "code",
   "execution_count": null,
   "metadata": {
    "collapsed": true
   },
   "outputs": [],
   "source": [
    "rms = feat_mat[:,0]\n",
    "rms_downsamp = downsamp_featmat[:,0]"
   ]
  },
  {
   "cell_type": "code",
   "execution_count": null,
   "metadata": {
    "collapsed": false
   },
   "outputs": [],
   "source": [
    "plt.figure()\n",
    "plt.plot(rms)\n",
    "plt.title('RMS')\n",
    "plt.xlabel('time')\n",
    "plt.show()\n",
    "\n",
    "plt.figure()\n",
    "plt.plot(rms_downsamp)\n",
    "plt.title('RMS, downsampled')\n",
    "plt.xlabel('time')\n",
    "plt.show()"
   ]
  },
  {
   "cell_type": "markdown",
   "metadata": {},
   "source": [
    "### Saving the design matrix\n",
    "\n",
    "You can also save the resulting feature matrix."
   ]
  },
  {
   "cell_type": "code",
   "execution_count": null,
   "metadata": {
    "collapsed": true
   },
   "outputs": [],
   "source": [
    "full_feat_mat = mat_maker.saveMatrix()\n",
    "featsets = mat_maker.returnFeatsets()"
   ]
  },
  {
   "cell_type": "code",
   "execution_count": null,
   "metadata": {
    "collapsed": true
   },
   "outputs": [],
   "source": [
    "toSave = dict(DesignMatrix=full_feat_mat, DesignFeats=featsets)"
   ]
  },
  {
   "cell_type": "code",
   "execution_count": null,
   "metadata": {
    "collapsed": true
   },
   "outputs": [],
   "source": [
    "# hf = tables.open_file('DesignMatrix.hdf', mode='w', title='safe_file')\n",
    "# for vname, var in toSave.items():\n",
    "#     hf.create_array('/', vname, var)\n",
    "# hf.close()"
   ]
  },
  {
   "cell_type": "markdown",
   "metadata": {},
   "source": [
    "### Note\n",
    "\n",
    "The order you pass in parameter values will make a difference. Look at source code and examples in tutorials for proper usage."
   ]
  }
 ],
 "metadata": {
  "kernelspec": {
   "display_name": "Python 3",
   "language": "python",
   "name": "python3"
  },
  "language_info": {
   "codemirror_mode": {
    "name": "ipython",
    "version": 3
   },
   "file_extension": ".py",
   "mimetype": "text/x-python",
   "name": "python",
   "nbconvert_exporter": "python",
   "pygments_lexer": "ipython3",
   "version": "3.5.2+"
  }
 },
 "nbformat": 4,
 "nbformat_minor": 0
}
